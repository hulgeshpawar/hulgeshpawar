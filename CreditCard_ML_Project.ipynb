{
 "cells": [
  {
   "cell_type": "code",
   "execution_count": 1,
   "metadata": {
    "id": "Y4mnkokkz6Im"
   },
   "outputs": [],
   "source": [
    "import numpy as np\n",
    "import pandas as pd\n",
    "import matplotlib.pyplot as plt\n",
    "import seaborn as sns\n",
    "import warnings as wr\n",
    "wr.filterwarnings('ignore')"
   ]
  },
  {
   "cell_type": "code",
   "execution_count": 3,
   "metadata": {
    "colab": {
     "base_uri": "https://localhost:8080/"
    },
    "id": "vuzB8cby0VM0",
    "outputId": "dd87ce1f-4807-4219-e6ac-bff76451020e"
   },
   "outputs": [
    {
     "name": "stdout",
     "output_type": "stream",
     "text": [
      "Mounted at /content/drive\n"
     ]
    }
   ],
   "source": [
    "from google.colab import drive\n",
    "drive.mount('/content/drive')"
   ]
  },
  {
   "cell_type": "code",
   "execution_count": 4,
   "metadata": {
    "id": "xl3eX1Gm0a7q"
   },
   "outputs": [],
   "source": [
    "df=pd.read_csv('/content/drive/MyDrive/ML Project/creditcard.csv')"
   ]
  },
  {
   "cell_type": "code",
   "execution_count": 5,
   "metadata": {
    "colab": {
     "base_uri": "https://localhost:8080/",
     "height": 299
    },
    "id": "sZxRQiMv1PnS",
    "outputId": "ef2bc51d-a633-4227-f22f-0d11b2ea7f69"
   },
   "outputs": [
    {
     "data": {
      "text/html": [
       "\n",
       "  <div id=\"df-6d8d9770-f0a4-4c1f-bb2e-3afa6254c36d\">\n",
       "    <div class=\"colab-df-container\">\n",
       "      <div>\n",
       "<style scoped>\n",
       "    .dataframe tbody tr th:only-of-type {\n",
       "        vertical-align: middle;\n",
       "    }\n",
       "\n",
       "    .dataframe tbody tr th {\n",
       "        vertical-align: top;\n",
       "    }\n",
       "\n",
       "    .dataframe thead th {\n",
       "        text-align: right;\n",
       "    }\n",
       "</style>\n",
       "<table border=\"1\" class=\"dataframe\">\n",
       "  <thead>\n",
       "    <tr style=\"text-align: right;\">\n",
       "      <th></th>\n",
       "      <th>Time</th>\n",
       "      <th>V1</th>\n",
       "      <th>V2</th>\n",
       "      <th>V3</th>\n",
       "      <th>V4</th>\n",
       "      <th>V5</th>\n",
       "      <th>V6</th>\n",
       "      <th>V7</th>\n",
       "      <th>V8</th>\n",
       "      <th>V9</th>\n",
       "      <th>...</th>\n",
       "      <th>V21</th>\n",
       "      <th>V22</th>\n",
       "      <th>V23</th>\n",
       "      <th>V24</th>\n",
       "      <th>V25</th>\n",
       "      <th>V26</th>\n",
       "      <th>V27</th>\n",
       "      <th>V28</th>\n",
       "      <th>Amount</th>\n",
       "      <th>Class</th>\n",
       "    </tr>\n",
       "  </thead>\n",
       "  <tbody>\n",
       "    <tr>\n",
       "      <th>0</th>\n",
       "      <td>0.0</td>\n",
       "      <td>-1.359807</td>\n",
       "      <td>-0.072781</td>\n",
       "      <td>2.536347</td>\n",
       "      <td>1.378155</td>\n",
       "      <td>-0.338321</td>\n",
       "      <td>0.462388</td>\n",
       "      <td>0.239599</td>\n",
       "      <td>0.098698</td>\n",
       "      <td>0.363787</td>\n",
       "      <td>...</td>\n",
       "      <td>-0.018307</td>\n",
       "      <td>0.277838</td>\n",
       "      <td>-0.110474</td>\n",
       "      <td>0.066928</td>\n",
       "      <td>0.128539</td>\n",
       "      <td>-0.189115</td>\n",
       "      <td>0.133558</td>\n",
       "      <td>-0.021053</td>\n",
       "      <td>149.62</td>\n",
       "      <td>0</td>\n",
       "    </tr>\n",
       "    <tr>\n",
       "      <th>1</th>\n",
       "      <td>0.0</td>\n",
       "      <td>1.191857</td>\n",
       "      <td>0.266151</td>\n",
       "      <td>0.166480</td>\n",
       "      <td>0.448154</td>\n",
       "      <td>0.060018</td>\n",
       "      <td>-0.082361</td>\n",
       "      <td>-0.078803</td>\n",
       "      <td>0.085102</td>\n",
       "      <td>-0.255425</td>\n",
       "      <td>...</td>\n",
       "      <td>-0.225775</td>\n",
       "      <td>-0.638672</td>\n",
       "      <td>0.101288</td>\n",
       "      <td>-0.339846</td>\n",
       "      <td>0.167170</td>\n",
       "      <td>0.125895</td>\n",
       "      <td>-0.008983</td>\n",
       "      <td>0.014724</td>\n",
       "      <td>2.69</td>\n",
       "      <td>0</td>\n",
       "    </tr>\n",
       "    <tr>\n",
       "      <th>2</th>\n",
       "      <td>1.0</td>\n",
       "      <td>-1.358354</td>\n",
       "      <td>-1.340163</td>\n",
       "      <td>1.773209</td>\n",
       "      <td>0.379780</td>\n",
       "      <td>-0.503198</td>\n",
       "      <td>1.800499</td>\n",
       "      <td>0.791461</td>\n",
       "      <td>0.247676</td>\n",
       "      <td>-1.514654</td>\n",
       "      <td>...</td>\n",
       "      <td>0.247998</td>\n",
       "      <td>0.771679</td>\n",
       "      <td>0.909412</td>\n",
       "      <td>-0.689281</td>\n",
       "      <td>-0.327642</td>\n",
       "      <td>-0.139097</td>\n",
       "      <td>-0.055353</td>\n",
       "      <td>-0.059752</td>\n",
       "      <td>378.66</td>\n",
       "      <td>0</td>\n",
       "    </tr>\n",
       "    <tr>\n",
       "      <th>3</th>\n",
       "      <td>1.0</td>\n",
       "      <td>-0.966272</td>\n",
       "      <td>-0.185226</td>\n",
       "      <td>1.792993</td>\n",
       "      <td>-0.863291</td>\n",
       "      <td>-0.010309</td>\n",
       "      <td>1.247203</td>\n",
       "      <td>0.237609</td>\n",
       "      <td>0.377436</td>\n",
       "      <td>-1.387024</td>\n",
       "      <td>...</td>\n",
       "      <td>-0.108300</td>\n",
       "      <td>0.005274</td>\n",
       "      <td>-0.190321</td>\n",
       "      <td>-1.175575</td>\n",
       "      <td>0.647376</td>\n",
       "      <td>-0.221929</td>\n",
       "      <td>0.062723</td>\n",
       "      <td>0.061458</td>\n",
       "      <td>123.50</td>\n",
       "      <td>0</td>\n",
       "    </tr>\n",
       "    <tr>\n",
       "      <th>4</th>\n",
       "      <td>2.0</td>\n",
       "      <td>-1.158233</td>\n",
       "      <td>0.877737</td>\n",
       "      <td>1.548718</td>\n",
       "      <td>0.403034</td>\n",
       "      <td>-0.407193</td>\n",
       "      <td>0.095921</td>\n",
       "      <td>0.592941</td>\n",
       "      <td>-0.270533</td>\n",
       "      <td>0.817739</td>\n",
       "      <td>...</td>\n",
       "      <td>-0.009431</td>\n",
       "      <td>0.798278</td>\n",
       "      <td>-0.137458</td>\n",
       "      <td>0.141267</td>\n",
       "      <td>-0.206010</td>\n",
       "      <td>0.502292</td>\n",
       "      <td>0.219422</td>\n",
       "      <td>0.215153</td>\n",
       "      <td>69.99</td>\n",
       "      <td>0</td>\n",
       "    </tr>\n",
       "  </tbody>\n",
       "</table>\n",
       "<p>5 rows × 31 columns</p>\n",
       "</div>\n",
       "      <button class=\"colab-df-convert\" onclick=\"convertToInteractive('df-6d8d9770-f0a4-4c1f-bb2e-3afa6254c36d')\"\n",
       "              title=\"Convert this dataframe to an interactive table.\"\n",
       "              style=\"display:none;\">\n",
       "        \n",
       "  <svg xmlns=\"http://www.w3.org/2000/svg\" height=\"24px\"viewBox=\"0 0 24 24\"\n",
       "       width=\"24px\">\n",
       "    <path d=\"M0 0h24v24H0V0z\" fill=\"none\"/>\n",
       "    <path d=\"M18.56 5.44l.94 2.06.94-2.06 2.06-.94-2.06-.94-.94-2.06-.94 2.06-2.06.94zm-11 1L8.5 8.5l.94-2.06 2.06-.94-2.06-.94L8.5 2.5l-.94 2.06-2.06.94zm10 10l.94 2.06.94-2.06 2.06-.94-2.06-.94-.94-2.06-.94 2.06-2.06.94z\"/><path d=\"M17.41 7.96l-1.37-1.37c-.4-.4-.92-.59-1.43-.59-.52 0-1.04.2-1.43.59L10.3 9.45l-7.72 7.72c-.78.78-.78 2.05 0 2.83L4 21.41c.39.39.9.59 1.41.59.51 0 1.02-.2 1.41-.59l7.78-7.78 2.81-2.81c.8-.78.8-2.07 0-2.86zM5.41 20L4 18.59l7.72-7.72 1.47 1.35L5.41 20z\"/>\n",
       "  </svg>\n",
       "      </button>\n",
       "      \n",
       "  <style>\n",
       "    .colab-df-container {\n",
       "      display:flex;\n",
       "      flex-wrap:wrap;\n",
       "      gap: 12px;\n",
       "    }\n",
       "\n",
       "    .colab-df-convert {\n",
       "      background-color: #E8F0FE;\n",
       "      border: none;\n",
       "      border-radius: 50%;\n",
       "      cursor: pointer;\n",
       "      display: none;\n",
       "      fill: #1967D2;\n",
       "      height: 32px;\n",
       "      padding: 0 0 0 0;\n",
       "      width: 32px;\n",
       "    }\n",
       "\n",
       "    .colab-df-convert:hover {\n",
       "      background-color: #E2EBFA;\n",
       "      box-shadow: 0px 1px 2px rgba(60, 64, 67, 0.3), 0px 1px 3px 1px rgba(60, 64, 67, 0.15);\n",
       "      fill: #174EA6;\n",
       "    }\n",
       "\n",
       "    [theme=dark] .colab-df-convert {\n",
       "      background-color: #3B4455;\n",
       "      fill: #D2E3FC;\n",
       "    }\n",
       "\n",
       "    [theme=dark] .colab-df-convert:hover {\n",
       "      background-color: #434B5C;\n",
       "      box-shadow: 0px 1px 3px 1px rgba(0, 0, 0, 0.15);\n",
       "      filter: drop-shadow(0px 1px 2px rgba(0, 0, 0, 0.3));\n",
       "      fill: #FFFFFF;\n",
       "    }\n",
       "  </style>\n",
       "\n",
       "      <script>\n",
       "        const buttonEl =\n",
       "          document.querySelector('#df-6d8d9770-f0a4-4c1f-bb2e-3afa6254c36d button.colab-df-convert');\n",
       "        buttonEl.style.display =\n",
       "          google.colab.kernel.accessAllowed ? 'block' : 'none';\n",
       "\n",
       "        async function convertToInteractive(key) {\n",
       "          const element = document.querySelector('#df-6d8d9770-f0a4-4c1f-bb2e-3afa6254c36d');\n",
       "          const dataTable =\n",
       "            await google.colab.kernel.invokeFunction('convertToInteractive',\n",
       "                                                     [key], {});\n",
       "          if (!dataTable) return;\n",
       "\n",
       "          const docLinkHtml = 'Like what you see? Visit the ' +\n",
       "            '<a target=\"_blank\" href=https://colab.research.google.com/notebooks/data_table.ipynb>data table notebook</a>'\n",
       "            + ' to learn more about interactive tables.';\n",
       "          element.innerHTML = '';\n",
       "          dataTable['output_type'] = 'display_data';\n",
       "          await google.colab.output.renderOutput(dataTable, element);\n",
       "          const docLink = document.createElement('div');\n",
       "          docLink.innerHTML = docLinkHtml;\n",
       "          element.appendChild(docLink);\n",
       "        }\n",
       "      </script>\n",
       "    </div>\n",
       "  </div>\n",
       "  "
      ],
      "text/plain": [
       "   Time        V1        V2        V3        V4        V5        V6        V7  \\\n",
       "0   0.0 -1.359807 -0.072781  2.536347  1.378155 -0.338321  0.462388  0.239599   \n",
       "1   0.0  1.191857  0.266151  0.166480  0.448154  0.060018 -0.082361 -0.078803   \n",
       "2   1.0 -1.358354 -1.340163  1.773209  0.379780 -0.503198  1.800499  0.791461   \n",
       "3   1.0 -0.966272 -0.185226  1.792993 -0.863291 -0.010309  1.247203  0.237609   \n",
       "4   2.0 -1.158233  0.877737  1.548718  0.403034 -0.407193  0.095921  0.592941   \n",
       "\n",
       "         V8        V9  ...       V21       V22       V23       V24       V25  \\\n",
       "0  0.098698  0.363787  ... -0.018307  0.277838 -0.110474  0.066928  0.128539   \n",
       "1  0.085102 -0.255425  ... -0.225775 -0.638672  0.101288 -0.339846  0.167170   \n",
       "2  0.247676 -1.514654  ...  0.247998  0.771679  0.909412 -0.689281 -0.327642   \n",
       "3  0.377436 -1.387024  ... -0.108300  0.005274 -0.190321 -1.175575  0.647376   \n",
       "4 -0.270533  0.817739  ... -0.009431  0.798278 -0.137458  0.141267 -0.206010   \n",
       "\n",
       "        V26       V27       V28  Amount  Class  \n",
       "0 -0.189115  0.133558 -0.021053  149.62      0  \n",
       "1  0.125895 -0.008983  0.014724    2.69      0  \n",
       "2 -0.139097 -0.055353 -0.059752  378.66      0  \n",
       "3 -0.221929  0.062723  0.061458  123.50      0  \n",
       "4  0.502292  0.219422  0.215153   69.99      0  \n",
       "\n",
       "[5 rows x 31 columns]"
      ]
     },
     "execution_count": 5,
     "metadata": {},
     "output_type": "execute_result"
    }
   ],
   "source": [
    "df.head()"
   ]
  },
  {
   "cell_type": "code",
   "execution_count": 6,
   "metadata": {
    "colab": {
     "base_uri": "https://localhost:8080/"
    },
    "id": "YKS8jv4W1Slp",
    "outputId": "7dc0007e-4de2-4546-f080-29881ddc46f3"
   },
   "outputs": [
    {
     "name": "stdout",
     "output_type": "stream",
     "text": [
      "<class 'pandas.core.frame.DataFrame'>\n",
      "RangeIndex: 284807 entries, 0 to 284806\n",
      "Data columns (total 31 columns):\n",
      " #   Column  Non-Null Count   Dtype  \n",
      "---  ------  --------------   -----  \n",
      " 0   Time    284807 non-null  float64\n",
      " 1   V1      284807 non-null  float64\n",
      " 2   V2      284807 non-null  float64\n",
      " 3   V3      284807 non-null  float64\n",
      " 4   V4      284807 non-null  float64\n",
      " 5   V5      284807 non-null  float64\n",
      " 6   V6      284807 non-null  float64\n",
      " 7   V7      284807 non-null  float64\n",
      " 8   V8      284807 non-null  float64\n",
      " 9   V9      284807 non-null  float64\n",
      " 10  V10     284807 non-null  float64\n",
      " 11  V11     284807 non-null  float64\n",
      " 12  V12     284807 non-null  float64\n",
      " 13  V13     284807 non-null  float64\n",
      " 14  V14     284807 non-null  float64\n",
      " 15  V15     284807 non-null  float64\n",
      " 16  V16     284807 non-null  float64\n",
      " 17  V17     284807 non-null  float64\n",
      " 18  V18     284807 non-null  float64\n",
      " 19  V19     284807 non-null  float64\n",
      " 20  V20     284807 non-null  float64\n",
      " 21  V21     284807 non-null  float64\n",
      " 22  V22     284807 non-null  float64\n",
      " 23  V23     284807 non-null  float64\n",
      " 24  V24     284807 non-null  float64\n",
      " 25  V25     284807 non-null  float64\n",
      " 26  V26     284807 non-null  float64\n",
      " 27  V27     284807 non-null  float64\n",
      " 28  V28     284807 non-null  float64\n",
      " 29  Amount  284807 non-null  float64\n",
      " 30  Class   284807 non-null  int64  \n",
      "dtypes: float64(30), int64(1)\n",
      "memory usage: 67.4 MB\n"
     ]
    }
   ],
   "source": [
    "df.info()"
   ]
  },
  {
   "cell_type": "code",
   "execution_count": 7,
   "metadata": {
    "id": "PzXoOidAp62y"
   },
   "outputs": [],
   "source": [
    "# There are no Null Value in DataFrame\n",
    "# There are 31 columns in Dataset.\n",
    "# There are 2 types of data types in Dataset float64 and int64.\n",
    "# float64 contains 30 columns and 1 columns of int64. "
   ]
  },
  {
   "cell_type": "code",
   "execution_count": 8,
   "metadata": {
    "colab": {
     "base_uri": "https://localhost:8080/",
     "height": 644
    },
    "id": "GxewWkl61f6J",
    "outputId": "bdb0207f-286a-4e2b-a46b-b6195afd5e86"
   },
   "outputs": [
    {
     "data": {
      "text/plain": [
       "<matplotlib.axes._subplots.AxesSubplot at 0x7fb8e5ee1a10>"
      ]
     },
     "execution_count": 8,
     "metadata": {},
     "output_type": "execute_result"
    },
    {
     "data": {
      "image/png": "[encoded data removed]",
      "text/plain": [
       "<Figure size 720x720 with 2 Axes>"
      ]
     },
     "metadata": {
      "needs_background": "light"
     },
     "output_type": "display_data"
    }
   ],
   "source": [
    "# Creating a heatmap to visualize the null values.\n",
    "plt.figure(figsize=(10,10))\n",
    "sns.heatmap(df.isnull())"
   ]
  },
  {
   "cell_type": "markdown",
   "metadata": {
    "id": "nD6Ej8xGrB91"
   },
   "source": [
    "# Checking if Output is balance ."
   ]
  },
  {
   "cell_type": "code",
   "execution_count": 9,
   "metadata": {
    "colab": {
     "base_uri": "https://localhost:8080/"
    },
    "id": "ZnxP2gOp7rF3",
    "outputId": "3aa03be8-5023-4a6e-e298-3e776619124d"
   },
   "outputs": [
    {
     "data": {
      "text/plain": [
       "0    284315\n",
       "1       492\n",
       "Name: Class, dtype: int64"
      ]
     },
     "execution_count": 9,
     "metadata": {},
     "output_type": "execute_result"
    }
   ],
   "source": [
    "df['Class'].value_counts()"
   ]
  },
  {
   "cell_type": "code",
   "execution_count": 10,
   "metadata": {
    "colab": {
     "base_uri": "https://localhost:8080/",
     "height": 279
    },
    "id": "yqxrgf267rC-",
    "outputId": "a5ba96ab-a5ac-4353-b541-52abebbe95f2"
   },
   "outputs": [
    {
     "data": {
      "image/png": "[encoded data removed]",
      "text/plain": [
       "<Figure size 432x288 with 1 Axes>"
      ]
     },
     "metadata": {
      "needs_background": "light"
     },
     "output_type": "display_data"
    }
   ],
   "source": [
    "# Visualizing the balance.\n",
    "sns.countplot(data=df,x='Class')\n",
    "f=df['Class'].value_counts()\n",
    "plt.yticks(f)\n",
    "plt.show()"
   ]
  },
  {
   "cell_type": "markdown",
   "metadata": {
    "id": "ughx51Msr6Rd"
   },
   "source": [
    "Spliting DataFrame in x(input) and y(output)"
   ]
  },
  {
   "cell_type": "code",
   "execution_count": 11,
   "metadata": {
    "id": "v8atuqP-RqCH"
   },
   "outputs": [],
   "source": [
    "# Split Data in\n",
    "x=df.drop('Class',axis=1) # Input\n",
    "y=df['Class'] # Output"
   ]
  },
  {
   "cell_type": "code",
   "execution_count": 12,
   "metadata": {
    "id": "HGVxuRI2Rp-l"
   },
   "outputs": [],
   "source": [
    "# importing train test split\n",
    "from sklearn.model_selection import train_test_split\n",
    "# Spliting Data for train and test\n",
    "x_train,x_test,y_train,y_test=train_test_split(x,y,random_state=1,test_size=0.3)"
   ]
  },
  {
   "cell_type": "markdown",
   "metadata": {
    "id": "-_2di7p4svXb"
   },
   "source": [
    " Applying Scaling ."
   ]
  },
  {
   "cell_type": "code",
   "execution_count": 13,
   "metadata": {
    "id": "4BQuqX4ARp2r"
   },
   "outputs": [],
   "source": [
    "from sklearn.preprocessing import StandardScaler\n",
    "# creating object for StandardScaler\n",
    "ss=StandardScaler()\n",
    "# Appling Scaling\n",
    "x_train=ss.fit_transform(x_train)\n",
    "x_test=ss.transform(x_test)"
   ]
  },
  {
   "cell_type": "code",
   "execution_count": 14,
   "metadata": {
    "colab": {
     "base_uri": "https://localhost:8080/"
    },
    "id": "ikzuaRgOVNlb",
    "outputId": "636af26a-d515-4093-c703-ab2cd4883fb8"
   },
   "outputs": [
    {
     "data": {
      "text/plain": [
       "0    199007\n",
       "1       357\n",
       "Name: Class, dtype: int64"
      ]
     },
     "execution_count": 14,
     "metadata": {},
     "output_type": "execute_result"
    }
   ],
   "source": [
    "y_train.value_counts()"
   ]
  },
  {
   "cell_type": "code",
   "execution_count": 15,
   "metadata": {
    "colab": {
     "base_uri": "https://localhost:8080/"
    },
    "id": "K6CU8khUVRfZ",
    "outputId": "c3e240a9-eea0-42ed-f93e-ea89aaf339fc"
   },
   "outputs": [
    {
     "data": {
      "text/plain": [
       "0    85308\n",
       "1      135\n",
       "Name: Class, dtype: int64"
      ]
     },
     "execution_count": 15,
     "metadata": {},
     "output_type": "execute_result"
    }
   ],
   "source": [
    "y_test.value_counts()"
   ]
  },
  {
   "cell_type": "code",
   "execution_count": 16,
   "metadata": {
    "id": "bNdFveDM_2S6"
   },
   "outputs": [],
   "source": [
    "# Apply RandomOverSampler inbuild class\n",
    "from imblearn.over_sampling import RandomOverSampler\n",
    "# create object for Random Over Sampler\n",
    "ros=RandomOverSampler(random_state=1)"
   ]
  },
  {
   "cell_type": "code",
   "execution_count": 17,
   "metadata": {
    "id": "BtEw490qRlgV"
   },
   "outputs": [],
   "source": [
    "# Applying RandomOverSampler on training data(70%) \n",
    "x_train,y_train=ros.fit_resample(x_train,y_train)"
   ]
  },
  {
   "cell_type": "code",
   "execution_count": 18,
   "metadata": {
    "colab": {
     "base_uri": "https://localhost:8080/"
    },
    "id": "cHvsrc4htvb3",
    "outputId": "a785f68e-f359-475f-a1c4-368d8232744e"
   },
   "outputs": [
    {
     "data": {
      "text/plain": [
       "0    199007\n",
       "1    199007\n",
       "Name: Class, dtype: int64"
      ]
     },
     "execution_count": 18,
     "metadata": {},
     "output_type": "execute_result"
    }
   ],
   "source": [
    "# Check after apply RandomOverSampler\n",
    "y_train.value_counts()"
   ]
  },
  {
   "cell_type": "code",
   "execution_count": 19,
   "metadata": {
    "id": "xVLhM2ndUGRT"
   },
   "outputs": [],
   "source": [
    "# Applying RandomOverSampler on testing data(30%) \n",
    "x_test,y_test=ros.fit_resample(x_test,y_test)"
   ]
  },
  {
   "cell_type": "code",
   "execution_count": 20,
   "metadata": {
    "colab": {
     "base_uri": "https://localhost:8080/"
    },
    "id": "-IrtdAWKUOgV",
    "outputId": "40a545c5-c9fc-41d4-f263-aa368779278d"
   },
   "outputs": [
    {
     "data": {
      "text/plain": [
       "0    85308\n",
       "1    85308\n",
       "Name: Class, dtype: int64"
      ]
     },
     "execution_count": 20,
     "metadata": {},
     "output_type": "execute_result"
    }
   ],
   "source": [
    "# Check after apply RandomOverSampler\n",
    "y_test.value_counts()"
   ]
  },
  {
   "cell_type": "code",
   "execution_count": 21,
   "metadata": {
    "id": "L-hM3tUZuC_W"
   },
   "outputs": [],
   "source": [
    "# Importing some other essential modules\n",
    "from sklearn.metrics import classification_report,confusion_matrix"
   ]
  },
  {
   "cell_type": "code",
   "execution_count": 22,
   "metadata": {
    "id": "9zc7rVql_2AJ"
   },
   "outputs": [],
   "source": [
    "# User Define function After Equalizing Dataset:\n",
    "def train_model(model):\n",
    "  model.fit(x_train,y_train)\n",
    "  y_pred=model.predict(x_test)\n",
    "  print(classification_report(y_test,y_pred))\n",
    "  print(confusion_matrix(y_test,y_pred))\n",
    "  return model"
   ]
  },
  {
   "cell_type": "markdown",
   "metadata": {
    "id": "S_XwV2mdt3eX"
   },
   "source": [
    "# Logistic Regression"
   ]
  },
  {
   "cell_type": "code",
   "execution_count": 23,
   "metadata": {
    "id": "r2oULIqJVGc_"
   },
   "outputs": [],
   "source": [
    "# Importing Logistic Regression.\n",
    "from sklearn.linear_model import LogisticRegression\n",
    "# Creating an object for LogisticRegression.\n",
    "lr=LogisticRegression(random_state=1)"
   ]
  },
  {
   "cell_type": "code",
   "execution_count": 24,
   "metadata": {
    "colab": {
     "base_uri": "https://localhost:8080/"
    },
    "id": "L2j26LKPB4Wd",
    "outputId": "08130493-6446-4ceb-cdbe-6072762a1d3b"
   },
   "outputs": [
    {
     "name": "stdout",
     "output_type": "stream",
     "text": [
      "              precision    recall  f1-score   support\n",
      "\n",
      "           0       0.90      0.98      0.94     85308\n",
      "           1       0.98      0.90      0.94     85308\n",
      "\n",
      "    accuracy                           0.94    170616\n",
      "   macro avg       0.94      0.94      0.94    170616\n",
      "weighted avg       0.94      0.94      0.94    170616\n",
      "\n",
      "[[83724  1584]\n",
      " [ 8874 76434]]\n"
     ]
    }
   ],
   "source": [
    "lr=train_model(lr)"
   ]
  },
  {
   "cell_type": "markdown",
   "metadata": {
    "id": "GmxulGxY9UVq"
   },
   "source": [
    "# Decision Tree Classifier "
   ]
  },
  {
   "cell_type": "markdown",
   "metadata": {
    "id": "Ovqjzt5Rus7R"
   },
   "source": [
    " Decision Tree Classifier Gini index"
   ]
  },
  {
   "cell_type": "code",
   "execution_count": 25,
   "metadata": {
    "id": "MPkzyj8jCz5Y"
   },
   "outputs": [],
   "source": [
    "# import Decision Tree Classifier\n",
    "from sklearn.tree import DecisionTreeClassifier\n",
    "# Creating object \n",
    "dtc=DecisionTreeClassifier(random_state=1)"
   ]
  },
  {
   "cell_type": "code",
   "execution_count": 26,
   "metadata": {
    "colab": {
     "base_uri": "https://localhost:8080/"
    },
    "id": "UWkqmTf-Cz2f",
    "outputId": "093be9c3-e202-4b38-c93f-44dae053bf50"
   },
   "outputs": [
    {
     "name": "stdout",
     "output_type": "stream",
     "text": [
      "              precision    recall  f1-score   support\n",
      "\n",
      "           0       0.74      1.00      0.85     85308\n",
      "           1       1.00      0.65      0.79     85308\n",
      "\n",
      "    accuracy                           0.83    170616\n",
      "   macro avg       0.87      0.83      0.82    170616\n",
      "weighted avg       0.87      0.83      0.82    170616\n",
      "\n",
      "[[85275    33]\n",
      " [29819 55489]]\n"
     ]
    }
   ],
   "source": [
    "#Calling the function.\n",
    "dtc=train_model(dtc)"
   ]
  },
  {
   "cell_type": "markdown",
   "metadata": {
    "id": "092aama9wqaJ"
   },
   "source": [
    " Decision Tree Classifier with Entropy"
   ]
  },
  {
   "cell_type": "code",
   "execution_count": 27,
   "metadata": {
    "colab": {
     "base_uri": "https://localhost:8080/"
    },
    "id": "K2DFN3p_Czze",
    "outputId": "e4838492-18ee-4ae2-8e4c-e719b5335f41"
   },
   "outputs": [
    {
     "name": "stdout",
     "output_type": "stream",
     "text": [
      "              precision    recall  f1-score   support\n",
      "\n",
      "           0       0.77      1.00      0.87     85308\n",
      "           1       1.00      0.70      0.82     85308\n",
      "\n",
      "    accuracy                           0.85    170616\n",
      "   macro avg       0.88      0.85      0.85    170616\n",
      "weighted avg       0.88      0.85      0.85    170616\n",
      "\n",
      "[[85272    36]\n",
      " [25398 59910]]\n"
     ]
    }
   ],
   "source": [
    "# Creating object with Entropy\n",
    "dtc0=DecisionTreeClassifier(random_state=1,criterion='entropy')\n",
    "#Calling the function.\n",
    "dtc0=train_model(dtc0)"
   ]
  },
  {
   "cell_type": "markdown",
   "metadata": {
    "id": "JxwVmStjxFAh"
   },
   "source": [
    " Decision Tree Classifier with Max Depth"
   ]
  },
  {
   "cell_type": "code",
   "execution_count": 28,
   "metadata": {
    "colab": {
     "base_uri": "https://localhost:8080/"
    },
    "id": "8nqjJSiGCzxU",
    "outputId": "6496be1f-7335-4961-eb76-5e2d91e80811"
   },
   "outputs": [
    {
     "name": "stdout",
     "output_type": "stream",
     "text": [
      "              precision    recall  f1-score   support\n",
      "\n",
      "           0       0.87      0.98      0.92     85308\n",
      "           1       0.98      0.85      0.91     85308\n",
      "\n",
      "    accuracy                           0.92    170616\n",
      "   macro avg       0.92      0.92      0.92    170616\n",
      "weighted avg       0.92      0.92      0.92    170616\n",
      "\n",
      "[[83524  1784]\n",
      " [12622 72686]]\n"
     ]
    }
   ],
   "source": [
    "# Creating object with MAx Depth\n",
    "dtc1=DecisionTreeClassifier(random_state=1,max_depth=3)\n",
    "#calling the function\n",
    "dtc1=train_model(dtc1)"
   ]
  },
  {
   "cell_type": "markdown",
   "metadata": {
    "id": "PRvvIDZvxXx-"
   },
   "source": [
    " Decision Tree Classifier with Min Sample"
   ]
  },
  {
   "cell_type": "code",
   "execution_count": 29,
   "metadata": {
    "colab": {
     "base_uri": "https://localhost:8080/"
    },
    "id": "twcNLI1qCzuT",
    "outputId": "b36992cb-5a21-471e-ed60-d280a7e4b72c"
   },
   "outputs": [
    {
     "name": "stdout",
     "output_type": "stream",
     "text": [
      "              precision    recall  f1-score   support\n",
      "\n",
      "           0       0.84      1.00      0.91     85308\n",
      "           1       1.00      0.81      0.89     85308\n",
      "\n",
      "    accuracy                           0.90    170616\n",
      "   macro avg       0.92      0.90      0.90    170616\n",
      "weighted avg       0.92      0.90      0.90    170616\n",
      "\n",
      "[[85153   155]\n",
      " [16491 68817]]\n"
     ]
    }
   ],
   "source": [
    "# Creating object with Min Sample Leaf\n",
    "dtc2=DecisionTreeClassifier(random_state=1,min_samples_leaf=40)\n",
    "# calling object\n",
    "dtc2=train_model(dtc2)"
   ]
  },
  {
   "cell_type": "markdown",
   "metadata": {
    "id": "OXDtIfnoyvTL"
   },
   "source": [
    "# Random Forest Classifier"
   ]
  },
  {
   "cell_type": "code",
   "execution_count": 30,
   "metadata": {
    "colab": {
     "base_uri": "https://localhost:8080/"
    },
    "id": "20BrPq2oCzov",
    "outputId": "7b66e913-37fb-456f-c11a-92645774b7bf"
   },
   "outputs": [
    {
     "name": "stdout",
     "output_type": "stream",
     "text": [
      "              precision    recall  f1-score   support\n",
      "\n",
      "           0       0.81      1.00      0.90     85308\n",
      "           1       1.00      0.77      0.87     85308\n",
      "\n",
      "    accuracy                           0.88    170616\n",
      "   macro avg       0.91      0.88      0.88    170616\n",
      "weighted avg       0.91      0.88      0.88    170616\n",
      "\n",
      "[[85300     8]\n",
      " [19663 65645]]\n"
     ]
    }
   ],
   "source": [
    "# import Random Forest Library\n",
    "from sklearn.ensemble import RandomForestClassifier\n",
    "# creating object \n",
    "rfc=RandomForestClassifier(random_state=1,n_estimators=100,max_features=4)\n",
    "# calling function\n",
    "rfc=train_model(rfc)"
   ]
  },
  {
   "cell_type": "markdown",
   "metadata": {
    "id": "DktpSLPny6rw"
   },
   "source": [
    " Random Forest Classifier with Entropy"
   ]
  },
  {
   "cell_type": "code",
   "execution_count": 31,
   "metadata": {
    "colab": {
     "base_uri": "https://localhost:8080/"
    },
    "id": "szDHLRHty_uJ",
    "outputId": "1ee691c6-8d0c-4f02-fb9e-54b0ba55b776"
   },
   "outputs": [
    {
     "name": "stdout",
     "output_type": "stream",
     "text": [
      "              precision    recall  f1-score   support\n",
      "\n",
      "           0       0.81      1.00      0.90     85308\n",
      "           1       1.00      0.77      0.87     85308\n",
      "\n",
      "    accuracy                           0.88    170616\n",
      "   macro avg       0.91      0.88      0.88    170616\n",
      "weighted avg       0.91      0.88      0.88    170616\n",
      "\n",
      "[[85299     9]\n",
      " [19691 65617]]\n"
     ]
    }
   ],
   "source": [
    "# Creating object with Entropy\n",
    "rfc1= RandomForestClassifier(criterion='entropy',random_state=1,n_estimators=100,max_features=7)\n",
    "# Calling the object\n",
    "rfc1=train_model(rfc1)"
   ]
  },
  {
   "cell_type": "markdown",
   "metadata": {
    "id": "dglbI6HfBKf8"
   },
   "source": [
    "# Boosting Tenhnique\n",
    "\n"
   ]
  },
  {
   "cell_type": "markdown",
   "metadata": {
    "id": "R-osA_YozlqR"
   },
   "source": [
    "# ADA Boosting ( Adaptor Boosting )"
   ]
  },
  {
   "cell_type": "code",
   "execution_count": 32,
   "metadata": {
    "id": "2j41SOZXCzls"
   },
   "outputs": [],
   "source": [
    "from sklearn.ensemble import AdaBoostClassifier"
   ]
  },
  {
   "cell_type": "code",
   "execution_count": 33,
   "metadata": {
    "colab": {
     "base_uri": "https://localhost:8080/"
    },
    "id": "VJLPw6n7Czi4",
    "outputId": "4bb3cf0b-0dab-4a2a-d1c8-c4a3bd348876"
   },
   "outputs": [
    {
     "name": "stdout",
     "output_type": "stream",
     "text": [
      "              precision    recall  f1-score   support\n",
      "\n",
      "           0       0.91      0.96      0.93     85308\n",
      "           1       0.96      0.90      0.93     85308\n",
      "\n",
      "    accuracy                           0.93    170616\n",
      "   macro avg       0.93      0.93      0.93    170616\n",
      "weighted avg       0.93      0.93      0.93    170616\n",
      "\n",
      "[[81925  3383]\n",
      " [ 8199 77109]]\n"
     ]
    }
   ],
   "source": [
    "# creting object \n",
    "ada=AdaBoostClassifier(random_state=1,n_estimators=10)\n",
    "# calling object\n",
    "ada=train_model(ada)"
   ]
  },
  {
   "cell_type": "markdown",
   "metadata": {
    "id": "y0wbzuFJzvXs"
   },
   "source": [
    "# Gradient Boosting Classifier"
   ]
  },
  {
   "cell_type": "code",
   "execution_count": 34,
   "metadata": {
    "id": "nGx-exaCCzfx"
   },
   "outputs": [],
   "source": [
    "# import Gradinet Boost Library\n",
    "from sklearn.ensemble import GradientBoostingClassifier"
   ]
  },
  {
   "cell_type": "code",
   "execution_count": 35,
   "metadata": {
    "colab": {
     "base_uri": "https://localhost:8080/"
    },
    "id": "pLHUbAzrCzc1",
    "outputId": "7384f809-1b54-41e9-f821-1708d1e17e24"
   },
   "outputs": [
    {
     "name": "stdout",
     "output_type": "stream",
     "text": [
      "              precision    recall  f1-score   support\n",
      "\n",
      "           0       0.88      0.99      0.93     85308\n",
      "           1       0.99      0.87      0.92     85308\n",
      "\n",
      "    accuracy                           0.93    170616\n",
      "   macro avg       0.94      0.93      0.93    170616\n",
      "weighted avg       0.94      0.93      0.93    170616\n",
      "\n",
      "[[84454   854]\n",
      " [11329 73979]]\n"
     ]
    }
   ],
   "source": [
    "# Create Library\n",
    "gbc=GradientBoostingClassifier(random_state=1,n_estimators=40)\n",
    "# caling function\n",
    "gbc=train_model(gbc)"
   ]
  },
  {
   "cell_type": "markdown",
   "metadata": {
    "id": "B24x9e6_z32h"
   },
   "source": [
    "# Xetreme Gradient Boost"
   ]
  },
  {
   "cell_type": "code",
   "execution_count": 36,
   "metadata": {
    "id": "KRnslPB1CzaO"
   },
   "outputs": [],
   "source": [
    "# importing Xetreme Gradient Boost library\n",
    "from xgboost import XGBClassifier"
   ]
  },
  {
   "cell_type": "code",
   "execution_count": 37,
   "metadata": {
    "colab": {
     "base_uri": "https://localhost:8080/"
    },
    "id": "ZpxOeWSwCzW9",
    "outputId": "8cea1ca7-f11d-4c14-b514-0f022aec29a8"
   },
   "outputs": [
    {
     "name": "stdout",
     "output_type": "stream",
     "text": [
      "              precision    recall  f1-score   support\n",
      "\n",
      "           0       0.88      0.99      0.93     85308\n",
      "           1       0.99      0.86      0.92     85308\n",
      "\n",
      "    accuracy                           0.93    170616\n",
      "   macro avg       0.93      0.93      0.93    170616\n",
      "weighted avg       0.93      0.93      0.93    170616\n",
      "\n",
      "[[84714   594]\n",
      " [11961 73347]]\n"
     ]
    }
   ],
   "source": [
    "# Creating th eobject\n",
    "xgb=XGBClassifier(random_state=1,reg_alpha=1,n_estimators=40)  \n",
    "# calling the object\n",
    "xgb=train_model(xgb)"
   ]
  },
  {
   "cell_type": "markdown",
   "metadata": {
    "id": "pwHvHJH3fBTo"
   },
   "source": [
    "# Support Vector Machine"
   ]
  },
  {
   "cell_type": "markdown",
   "metadata": {
    "id": "p3DJffgV2qw3"
   },
   "source": [
    " Linear SVC"
   ]
  },
  {
   "cell_type": "code",
   "execution_count": 38,
   "metadata": {
    "id": "wm9NLOLEfGVc"
   },
   "outputs": [],
   "source": [
    "from sklearn.svm import LinearSVC"
   ]
  },
  {
   "cell_type": "code",
   "execution_count": 39,
   "metadata": {
    "colab": {
     "base_uri": "https://localhost:8080/"
    },
    "id": "92ODtxkZfGSD",
    "outputId": "5c730e55-a4e0-4ef7-c826-0b413febc506"
   },
   "outputs": [
    {
     "name": "stdout",
     "output_type": "stream",
     "text": [
      "              precision    recall  f1-score   support\n",
      "\n",
      "           0       0.90      0.98      0.94     85308\n",
      "           1       0.98      0.90      0.94     85308\n",
      "\n",
      "    accuracy                           0.94    170616\n",
      "   macro avg       0.94      0.94      0.94    170616\n",
      "weighted avg       0.94      0.94      0.94    170616\n",
      "\n",
      "[[83834  1474]\n",
      " [ 8874 76434]]\n"
     ]
    }
   ],
   "source": [
    "# creating the object\n",
    "svc=LinearSVC(random_state=1,C=0.99)\n",
    "# calling the object\n",
    "svc=train_model(svc)"
   ]
  },
  {
   "cell_type": "markdown",
   "metadata": {
    "id": "Et31bp6I2kdn"
   },
   "source": [
    "SVC Polynomial Kernel Function"
   ]
  },
  {
   "cell_type": "code",
   "execution_count": null,
   "metadata": {
    "colab": {
     "background_save": true
    },
    "id": "YrQLGlgvfGOo",
    "outputId": "e24faaac-abdd-4cf4-c977-33c8a5a4b7f4"
   },
   "outputs": [
    {
     "name": "stdout",
     "output_type": "stream",
     "text": [
      "              precision    recall  f1-score   support\n",
      "\n",
      "           0       0.86      1.00      0.92     85308\n",
      "           1       1.00      0.84      0.91     85308\n",
      "\n",
      "    accuracy                           0.92    170616\n",
      "   macro avg       0.93      0.92      0.92    170616\n",
      "weighted avg       0.93      0.92      0.92    170616\n",
      "\n",
      "[[85082   226]\n",
      " [13871 71437]]\n"
     ]
    }
   ],
   "source": [
    "from sklearn.svm import SVC\n",
    "# creating object \n",
    "svc1=SVC(random_state=1,kernel='poly')\n",
    "# calling the function\n",
    "svc1=train_model(svc1)"
   ]
  },
  {
   "cell_type": "markdown",
   "metadata": {
    "id": "ecAefV-10gFL"
   },
   "source": [
    "# K-NN Classifier"
   ]
  },
  {
   "cell_type": "code",
   "execution_count": 40,
   "metadata": {
    "id": "NBg3s8J_fGFA"
   },
   "outputs": [],
   "source": [
    "from sklearn.neighbors import KNeighborsClassifier"
   ]
  },
  {
   "cell_type": "code",
   "execution_count": 41,
   "metadata": {
    "colab": {
     "base_uri": "https://localhost:8080/"
    },
    "id": "w7sG_-0cfF9r",
    "outputId": "ef56314e-ffb9-4983-b486-5e6fcd87d37f"
   },
   "outputs": [
    {
     "name": "stdout",
     "output_type": "stream",
     "text": [
      "              precision    recall  f1-score   support\n",
      "\n",
      "           0       0.82      1.00      0.90     85308\n",
      "           1       1.00      0.78      0.87     85308\n",
      "\n",
      "    accuracy                           0.89    170616\n",
      "   macro avg       0.91      0.89      0.89    170616\n",
      "weighted avg       0.91      0.89      0.89    170616\n",
      "\n",
      "[[85247    61]\n",
      " [19106 66202]]\n"
     ]
    }
   ],
   "source": [
    "knc=KNeighborsClassifier(n_neighbors=5,metric='minkowski',p=2)\n",
    "knc=train_model(knc)"
   ]
  },
  {
   "cell_type": "markdown",
   "metadata": {
    "id": "LSN5qf550mGM"
   },
   "source": [
    "# Naive Bayes"
   ]
  },
  {
   "cell_type": "code",
   "execution_count": 42,
   "metadata": {
    "id": "8qO2JciyfF1M"
   },
   "outputs": [],
   "source": [
    "from sklearn.naive_bayes import GaussianNB"
   ]
  },
  {
   "cell_type": "code",
   "execution_count": 43,
   "metadata": {
    "colab": {
     "base_uri": "https://localhost:8080/"
    },
    "id": "HyR_fFXSfFGJ",
    "outputId": "4adc28a8-c1fa-43f0-ccd8-dd955c1cc91b"
   },
   "outputs": [
    {
     "name": "stdout",
     "output_type": "stream",
     "text": [
      "              precision    recall  f1-score   support\n",
      "\n",
      "           0       0.85      0.98      0.91     85308\n",
      "           1       0.97      0.82      0.89     85308\n",
      "\n",
      "    accuracy                           0.90    170616\n",
      "   macro avg       0.91      0.90      0.90    170616\n",
      "weighted avg       0.91      0.90      0.90    170616\n",
      "\n",
      "[[83203  2105]\n",
      " [15152 70156]]\n"
     ]
    }
   ],
   "source": [
    "gnb=GaussianNB()\n",
    "gnb=train_model(gnb)"
   ]
  },
  {
   "cell_type": "markdown",
   "metadata": {
    "id": "4PJMxzzq1aRj"
   },
   "source": [
    "# Stacking Classifier\n"
   ]
  },
  {
   "cell_type": "code",
   "execution_count": 44,
   "metadata": {
    "id": "7wCTv9Jj05Sv"
   },
   "outputs": [],
   "source": [
    "import six\n",
    "import sys\n",
    "sys.modules['sklearn.externals.six'] = six"
   ]
  },
  {
   "cell_type": "code",
   "execution_count": 45,
   "metadata": {
    "colab": {
     "base_uri": "https://localhost:8080/"
    },
    "id": "esvYOEe_05QB",
    "outputId": "b8b22257-d7ea-4fb1-a13a-9a8f38d1c2ce"
   },
   "outputs": [
    {
     "name": "stdout",
     "output_type": "stream",
     "text": [
      "Collecting mlrose\n",
      "  Downloading mlrose-1.3.0-py3-none-any.whl (27 kB)\n",
      "Requirement already satisfied: numpy in /usr/local/lib/python3.7/dist-packages (from mlrose) (1.21.6)\n",
      "Requirement already satisfied: sklearn in /usr/local/lib/python3.7/dist-packages (from mlrose) (0.0)\n",
      "Requirement already satisfied: scipy in /usr/local/lib/python3.7/dist-packages (from mlrose) (1.4.1)\n",
      "Requirement already satisfied: scikit-learn in /usr/local/lib/python3.7/dist-packages (from sklearn->mlrose) (1.0.2)\n",
      "Requirement already satisfied: joblib>=0.11 in /usr/local/lib/python3.7/dist-packages (from scikit-learn->sklearn->mlrose) (1.1.0)\n",
      "Requirement already satisfied: threadpoolctl>=2.0.0 in /usr/local/lib/python3.7/dist-packages (from scikit-learn->sklearn->mlrose) (3.1.0)\n",
      "Installing collected packages: mlrose\n",
      "Successfully installed mlrose-1.3.0\n"
     ]
    }
   ],
   "source": [
    "!pip install mlrose"
   ]
  },
  {
   "cell_type": "code",
   "execution_count": 46,
   "metadata": {
    "id": "k71uRXer1MJH"
   },
   "outputs": [],
   "source": [
    "from mlxtend.classifier import StackingClassifier\n",
    "lr=LogisticRegression(random_state=1)\n",
    "dtc=DecisionTreeClassifier(random_state=1,max_depth=3)\n",
    "rfc=RandomForestClassifier(random_state=1,n_estimators=100,max_features=4)"
   ]
  },
  {
   "cell_type": "code",
   "execution_count": 47,
   "metadata": {
    "id": "oIXy9p6L1MFi"
   },
   "outputs": [],
   "source": [
    "model_list=[lr,dtc,rfc]\n",
    "meta=LogisticRegression()"
   ]
  },
  {
   "cell_type": "code",
   "execution_count": 48,
   "metadata": {
    "colab": {
     "base_uri": "https://localhost:8080/"
    },
    "id": "R6B7bIRb1MCy",
    "outputId": "b123c583-a077-486f-db31-ca656e6275bd"
   },
   "outputs": [
    {
     "name": "stdout",
     "output_type": "stream",
     "text": [
      "              precision    recall  f1-score   support\n",
      "\n",
      "           0       0.81      1.00      0.90     85308\n",
      "           1       1.00      0.77      0.87     85308\n",
      "\n",
      "    accuracy                           0.88    170616\n",
      "   macro avg       0.91      0.88      0.88    170616\n",
      "weighted avg       0.91      0.88      0.88    170616\n",
      "\n",
      "[[85300     8]\n",
      " [19663 65645]]\n"
     ]
    }
   ],
   "source": [
    "sc=StackingClassifier(classifiers=model_list,meta_classifier=meta)\n",
    "sc=train_model(sc)"
   ]
  },
  {
   "cell_type": "markdown",
   "metadata": {
    "id": "bHAyIkHPTD4B"
   },
   "source": [
    "# Step Perform\n",
    "- Import Basic Library\n",
    "- Allocating Credit Card csv to df variable\n",
    "- Check for Null Values\n",
    "- Check if Output Value is Balanced\n",
    "- Split Dataset in x and y\n",
    "- Split train and test Data\n",
    "- Apply Standard Sacler to Convert all colunm in same unit\n",
    "- Apply Random Over Sampler for Inbalanced Data \n",
    "- Create User defined function for y_pred,Confussion Matrix \n",
    "  and Classification report\n",
    "- Traning and Testing data with different types of Machine Learning Algorithm on Dataset \n"
   ]
  },
  {
   "cell_type": "markdown",
   "metadata": {
    "id": "8nBwOJk_PHTW"
   },
   "source": [
    "# conclusion"
   ]
  },
  {
   "cell_type": "markdown",
   "metadata": {
    "id": "_wyJVo5fPTfj"
   },
   "source": [
    "- We have tried different type of Machine Learning Algorithm on Dataset \n",
    "- The Best Result we got is from Logistic Regression 0 - 0.98% & 1 - 0.90%\n",
    "- But After Traning Dataset with different Algorithm \n",
    "  we got 0 - 0.98% & 1 - 0.90% from Linear Linear Support Vector Machine\n",
    "  After Adding Error.\n"
   ]
  },
  {
   "cell_type": "code",
   "execution_count": null,
   "metadata": {
    "id": "klALAd4d6W2C"
   },
   "outputs": [],
   "source": []
  }
 ],
 "metadata": {
  "colab": {
   "collapsed_sections": [],
   "name": "CreditCard_ML_Project.ipynb",
   "provenance": []
  },
  "kernelspec": {
   "display_name": "Python 3 (ipykernel)",
   "language": "python",
   "name": "python3"
  },
  "language_info": {
   "codemirror_mode": {
    "name": "ipython",
    "version": 3
   },
   "file_extension": ".py",
   "mimetype": "text/x-python",
   "name": "python",
   "nbconvert_exporter": "python",
   "pygments_lexer": "ipython3",
   "version": "3.10.0"
  }
 },
 "nbformat": 4,
 "nbformat_minor": 1
}
